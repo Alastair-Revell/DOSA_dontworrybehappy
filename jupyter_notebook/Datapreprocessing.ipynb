{
 "cells": [
  {
   "cell_type": "markdown",
   "metadata": {},
   "source": [
    "# Facial Expression Recognition #\n",
    "***\n",
    "### Introduction###\n",
    "***\n",
    "\n",
    "This is a notebook which explores the FER dataset from the following kaggle competition: \n",
    "<br>\n",
    "<br>\n",
    "(https://www.kaggle.com/c/challenges-in-representation-learning-facial-expression-recognition-challenge/data).\n",
    "<br>\n",
    "<br>\n",
    "We attempt to use various machine-learning techniques to create a classification of the human, facial expressions provided by our labelled image data. Once a sufficiently accurate model has been trained, we will attempt to build an object-detection program that can classify expressions in real-time from a webcameras video data. \n",
    "<br> \n",
    "<br>\n",
    "This may or may not be later deployed as a web application!\n",
    "\n",
    "\n",
    "### Process ###\n",
    "***\n",
    "\n",
    "  1. **Import the csv data into a pandas dataframe**\n",
    "     <br>\n",
    "  \n",
    "  2. **Examine the data**\n",
    "     - Check data distribution across categories \n",
    "     - Check for null values in the data set \n",
    "     - Plot a random sample of images to check that the labelling aligns with the images \n",
    "     <br>\n",
    "     <br>\n",
    "  3. **Format and preprocess the image data** \n",
    "     - Convert raw pixel string to list \n",
    "     - Normalize the pixel values using sklearn's StandardScaler\n",
    "     - Reshape the data to 48x48 \n",
    "     <br>\n",
    "     <br>\n",
    "    \n",
    "  4. **Encode the labels using One-Hot Encoding** \n",
    "      - Our 7 categories of emotions were converted to 6 One-Hot Encoded labels \n",
    "          - The importance of using One-Hot Encoding is to ensure the model does not try to create inferences from the varying values of label data. \n",
    "          - The reason we used 6 dummy variables instead of the full 7 was to ensure that none of the explanatory variables in our model were, a priori, linearly dependent. This reduces the risk of multicollinearity in the model. \n",
    "     <br>\n",
    "     <br>\n",
    "     \n",
    "  5. **Split the dataset into a testing and training dataset**\n",
    "     <br>\n",
    "     <br>\n",
    "     \n",
    "  6. **Fit sklearn models to the dataset**\n",
    "     - Fine-Tune Hyper-parameters\n",
    "     <br>\n",
    "     <br>\n",
    "     \n",
    "  7. **Neural Network**\n",
    "     - Fine-Tune Hyper-parameters\n",
    "     <br>\n",
    "     <br>\n",
    "  8. **Object Reconition**\n",
    "     - Stretch Goal"
   ]
  },
  {
   "cell_type": "markdown",
   "metadata": {},
   "source": [
    "<br>\n",
    "<br>\n",
    "\n",
    "### The Code ###\n",
    "***\n",
    "\n",
    "##### Firstly we import the requsite libraries ####"
   ]
  },
  {
   "cell_type": "code",
   "execution_count": 1,
   "metadata": {},
   "outputs": [],
   "source": [
    "import pandas as pd\n",
    "import matplotlib.pyplot as plt \n",
    "import numpy as np\n",
    "from tqdm import tqdm_notebook as tqdm\n",
    "from sklearn.preprocessing import LabelEncoder, OneHotEncoder, StandardScaler\n",
    "\n",
    "import seaborn as sns "
   ]
  },
  {
   "cell_type": "markdown",
   "metadata": {},
   "source": [
    "##### Import the data and examine the head of the dataframe #####\n",
    "###### We also clear the 'Disgust' emotion data ######"
   ]
  },
  {
   "cell_type": "code",
   "execution_count": 2,
   "metadata": {},
   "outputs": [
    {
     "name": "stdout",
     "output_type": "stream",
     "text": [
      "   emotion                                             pixels     Usage\n",
      "0        0  70 80 82 72 58 58 60 63 54 58 60 48 89 115 121...  Training\n",
      "1        0  151 150 147 155 148 133 111 140 170 174 182 15...  Training\n",
      "2        2  231 212 156 164 174 138 161 173 182 200 106 38...  Training\n",
      "3        4  24 32 36 30 32 23 19 20 30 41 21 22 32 34 21 1...  Training\n",
      "4        6  4 0 0 0 0 0 0 0 0 0 0 0 3 15 23 28 48 50 58 84...  Training\n",
      "\n",
      "Number of Observations: 35887\n"
     ]
    }
   ],
   "source": [
    "df = pd.read_csv('fer2013.csv')\n",
    "print(df.head())\n",
    "print()\n",
    "length = len(df)\n",
    "print(f\"Number of Observations: {length}\" )"
   ]
  },
  {
   "cell_type": "markdown",
   "metadata": {},
   "source": [
    "##### Examine observation count  grouped by category and null value count #####"
   ]
  },
  {
   "cell_type": "code",
   "execution_count": 3,
   "metadata": {
    "scrolled": false
   },
   "outputs": [
    {
     "name": "stdout",
     "output_type": "stream",
     "text": [
      "3    8989\n",
      "6    6198\n",
      "4    6077\n",
      "2    5121\n",
      "0    4953\n",
      "5    4002\n",
      "1     547\n",
      "Name: emotion, dtype: int64\n"
     ]
    },
    {
     "data": {
      "image/png": "[encoded data removed]",
      "text/plain": [
       "<Figure size 432x288 with 1 Axes>"
      ]
     },
     "metadata": {
      "needs_background": "light"
     },
     "output_type": "display_data"
    }
   ],
   "source": [
    "graph = sns.countplot(df['emotion'])\n",
    "print(df.emotion.value_counts(sort=True))"
   ]
  },
  {
   "cell_type": "code",
   "execution_count": 4,
   "metadata": {},
   "outputs": [
    {
     "name": "stdout",
     "output_type": "stream",
     "text": [
      "emotion    0\n",
      "pixels     0\n",
      "Usage      0\n",
      "dtype: int64\n"
     ]
    }
   ],
   "source": [
    "# Check null values\n",
    "print(df.isnull().sum())\n",
    "df = df[df.emotion != 1].reset_index()"
   ]
  },
  {
   "cell_type": "markdown",
   "metadata": {},
   "source": [
    "It is clear that we have very few obervations for emotion 1 (Disgust), this is something to be mindful of. It might be worth dropping this emotion from the dataset. \n",
    "<br> \n",
    "<br> \n",
    "The good news is that we have no null values! :-) \n",
    "<br> \n",
    "##### Examine the datatypes of the pandas dataframe #####"
   ]
  },
  {
   "cell_type": "code",
   "execution_count": 5,
   "metadata": {
    "scrolled": true
   },
   "outputs": [
    {
     "data": {
      "text/plain": [
       "index       int64\n",
       "emotion     int64\n",
       "pixels     object\n",
       "Usage      object\n",
       "dtype: object"
      ]
     },
     "execution_count": 5,
     "metadata": {},
     "output_type": "execute_result"
    }
   ],
   "source": [
    "df.dtypes"
   ]
  },
  {
   "cell_type": "markdown",
   "metadata": {},
   "source": [
    "<font color=B22222>**This has presented a problem, our pixel data, which should be a list of intergers is actually a pandas 'object' datatype. This is equivalent to a python string datatype and will not work with machine learning algorithms.**</font>\n",
    "<br>\n",
    "<br>\n",
    "Below we create a format function to convert this column of space-seperated strings to lists of intergers. This new data is used to create a new `pixel_formatted` dataframe column."
   ]
  },
  {
   "cell_type": "code",
   "execution_count": 6,
   "metadata": {},
   "outputs": [],
   "source": [
    "scaler = StandardScaler()\n",
    "\n",
    "def format(index):\n",
    "    elem = [int(s) for s in df['pixels'][index].split(' ')]\n",
    "    return elem"
   ]
  },
  {
   "cell_type": "code",
   "execution_count": 7,
   "metadata": {
    "scrolled": true
   },
   "outputs": [
    {
     "data": {
      "application/vnd.jupyter.widget-view+json": {
       "model_id": "c546602a0ce045b2a13cfad01468760a",
       "version_major": 2,
       "version_minor": 0
      },
      "text/plain": [
       "HBox(children=(IntProgress(value=0, max=35340), HTML(value='')))"
      ]
     },
     "metadata": {},
     "output_type": "display_data"
    },
    {
     "name": "stdout",
     "output_type": "stream",
     "text": [
      "\n"
     ]
    },
    {
     "name": "stderr",
     "output_type": "stream",
     "text": [
      "/anaconda3/lib/python3.7/site-packages/sklearn/utils/validation.py:595: DataConversionWarning: Data with input dtype int64 was converted to float64 by StandardScaler.\n",
      "  warnings.warn(msg, DataConversionWarning)\n",
      "/anaconda3/lib/python3.7/site-packages/sklearn/utils/validation.py:595: DataConversionWarning: Data with input dtype int64 was converted to float64 by StandardScaler.\n",
      "  warnings.warn(msg, DataConversionWarning)\n"
     ]
    }
   ],
   "source": [
    "arr = []\n",
    "\n",
    "for i in tqdm(range(35340)):\n",
    "    arr.append(format(i))\n",
    "    \n",
    "np_arr = np.asarray(arr)\n",
    "standard_arr =  scaler.fit_transform(np_arr)\n",
    "df['formatted_pixels'] = arr"
   ]
  },
  {
   "cell_type": "markdown",
   "metadata": {},
   "source": [
    "##### Remove the original `pixels` and `Usage` columns #####"
   ]
  },
  {
   "cell_type": "code",
   "execution_count": 8,
   "metadata": {},
   "outputs": [],
   "source": [
    "df.drop(['pixels', 'Usage'], axis=1, inplace=True)"
   ]
  },
  {
   "cell_type": "code",
   "execution_count": 9,
   "metadata": {},
   "outputs": [
    {
     "data": {
      "text/html": [
       "<div>\n",
       "<style scoped>\n",
       "    .dataframe tbody tr th:only-of-type {\n",
       "        vertical-align: middle;\n",
       "    }\n",
       "\n",
       "    .dataframe tbody tr th {\n",
       "        vertical-align: top;\n",
       "    }\n",
       "\n",
       "    .dataframe thead th {\n",
       "        text-align: right;\n",
       "    }\n",
       "</style>\n",
       "<table border=\"1\" class=\"dataframe\">\n",
       "  <thead>\n",
       "    <tr style=\"text-align: right;\">\n",
       "      <th></th>\n",
       "      <th>index</th>\n",
       "      <th>emotion</th>\n",
       "      <th>formatted_pixels</th>\n",
       "    </tr>\n",
       "  </thead>\n",
       "  <tbody>\n",
       "    <tr>\n",
       "      <th>0</th>\n",
       "      <td>0</td>\n",
       "      <td>0</td>\n",
       "      <td>[70, 80, 82, 72, 58, 58, 60, 63, 54, 58, 60, 4...</td>\n",
       "    </tr>\n",
       "    <tr>\n",
       "      <th>1</th>\n",
       "      <td>1</td>\n",
       "      <td>0</td>\n",
       "      <td>[151, 150, 147, 155, 148, 133, 111, 140, 170, ...</td>\n",
       "    </tr>\n",
       "    <tr>\n",
       "      <th>2</th>\n",
       "      <td>2</td>\n",
       "      <td>2</td>\n",
       "      <td>[231, 212, 156, 164, 174, 138, 161, 173, 182, ...</td>\n",
       "    </tr>\n",
       "    <tr>\n",
       "      <th>3</th>\n",
       "      <td>3</td>\n",
       "      <td>4</td>\n",
       "      <td>[24, 32, 36, 30, 32, 23, 19, 20, 30, 41, 21, 2...</td>\n",
       "    </tr>\n",
       "    <tr>\n",
       "      <th>4</th>\n",
       "      <td>4</td>\n",
       "      <td>6</td>\n",
       "      <td>[4, 0, 0, 0, 0, 0, 0, 0, 0, 0, 0, 0, 3, 15, 23...</td>\n",
       "    </tr>\n",
       "  </tbody>\n",
       "</table>\n",
       "</div>"
      ],
      "text/plain": [
       "   index  emotion                                   formatted_pixels\n",
       "0      0        0  [70, 80, 82, 72, 58, 58, 60, 63, 54, 58, 60, 4...\n",
       "1      1        0  [151, 150, 147, 155, 148, 133, 111, 140, 170, ...\n",
       "2      2        2  [231, 212, 156, 164, 174, 138, 161, 173, 182, ...\n",
       "3      3        4  [24, 32, 36, 30, 32, 23, 19, 20, 30, 41, 21, 2...\n",
       "4      4        6  [4, 0, 0, 0, 0, 0, 0, 0, 0, 0, 0, 0, 3, 15, 23..."
      ]
     },
     "execution_count": 9,
     "metadata": {},
     "output_type": "execute_result"
    }
   ],
   "source": [
    "df.head()"
   ]
  },
  {
   "cell_type": "markdown",
   "metadata": {},
   "source": [
    "##### Explore the images by visualising 6 random images ##### "
   ]
  },
  {
   "cell_type": "code",
   "execution_count": 10,
   "metadata": {
    "scrolled": true
   },
   "outputs": [
    {
     "data": {
      "image/png": "[encoded data removed]",
      "text/plain": [
       "<Figure size 720x720 with 6 Axes>"
      ]
     },
     "metadata": {
      "needs_background": "light"
     },
     "output_type": "display_data"
    }
   ],
   "source": [
    "nrows, ncols = 2, 3 \n",
    "figsize = [10, 10]     \n",
    "\n",
    "fig, ax = plt.subplots(nrows=nrows, ncols=ncols, figsize=figsize)\n",
    "\n",
    "counter = 0 \n",
    "for i, axi in enumerate(ax.flat):\n",
    "    img = standard_arr[counter].reshape(48,48)\n",
    "    axi.imshow(img)\n",
    "    rowid = i // ncols\n",
    "    colid = i % ncols\n",
    "    axi.set_title(\"Emotion:\"+str(df['emotion'][counter]))\n",
    "    counter += 1 \n",
    "\n",
    "plt.tight_layout(True)\n",
    "plt.show()"
   ]
  },
  {
   "cell_type": "markdown",
   "metadata": {},
   "source": [
    "##### Now we are happy with our image data, we must One-Hot Encode out lables #####"
   ]
  },
  {
   "cell_type": "code",
   "execution_count": 11,
   "metadata": {
    "scrolled": false
   },
   "outputs": [
    {
     "name": "stdout",
     "output_type": "stream",
     "text": [
      "The shape of the onehot labels is: (35340, 6)\n"
     ]
    },
    {
     "data": {
      "application/vnd.jupyter.widget-view+json": {
       "model_id": "4e6f86f9ef84459795383e7aa08bee4b",
       "version_major": 2,
       "version_minor": 0
      },
      "text/plain": [
       "HBox(children=(IntProgress(value=0, max=35340), HTML(value='')))"
      ]
     },
     "metadata": {},
     "output_type": "display_data"
    },
    {
     "name": "stdout",
     "output_type": "stream",
     "text": [
      "\n"
     ]
    }
   ],
   "source": [
    "ohe = OneHotEncoder(sparse=False, categories='auto')\n",
    "onehotlabels = ohe.fit_transform(np.asarray(df['emotion']).reshape(-1,1))\n",
    "shape = onehotlabels.shape\n",
    "print(f\"The shape of the onehot labels is: {shape}\")\n",
    "\n",
    "new_arr = [] \n",
    "for s in tqdm(standard_arr):\n",
    "    new_arr.append(s.reshape(48,48))\n",
    "    "
   ]
  },
  {
   "cell_type": "markdown",
   "metadata": {},
   "source": [
    "##### Check that the pixel data now represents 35340 images of 48x48 pixels #####"
   ]
  },
  {
   "cell_type": "code",
   "execution_count": 12,
   "metadata": {},
   "outputs": [
    {
     "name": "stdout",
     "output_type": "stream",
     "text": [
      "The shape of the pixel data matrix is: (35340, 48, 48)\n"
     ]
    }
   ],
   "source": [
    "shape = np.asarray(new_arr).shape\n",
    "print(f\"The shape of the pixel data matrix is: {shape}\")"
   ]
  },
  {
   "cell_type": "markdown",
   "metadata": {},
   "source": [
    "##### Examine the first two One-Hot Labels and check that shape of the label array #####"
   ]
  },
  {
   "cell_type": "code",
   "execution_count": 13,
   "metadata": {},
   "outputs": [
    {
     "name": "stdout",
     "output_type": "stream",
     "text": [
      "[[1. 0. 0. 0. 0. 0.]\n",
      " [1. 0. 0. 0. 0. 0.]]\n",
      "\n",
      "The shape of the label matrix is: (35340, 6)\n"
     ]
    }
   ],
   "source": [
    "print(onehotlabels[:2])\n",
    "print()\n",
    "shape = np.asarray(onehotlabels).shape\n",
    "print(f\"The shape of the label matrix is: {shape}\")"
   ]
  },
  {
   "cell_type": "markdown",
   "metadata": {},
   "source": [
    "##### Both the input data and the labels have the same shape, so we can split our data into a training set and a testing set #####"
   ]
  },
  {
   "cell_type": "code",
   "execution_count": 14,
   "metadata": {},
   "outputs": [],
   "source": [
    "from sklearn.model_selection import train_test_split"
   ]
  },
  {
   "cell_type": "code",
   "execution_count": 15,
   "metadata": {},
   "outputs": [],
   "source": [
    "#Slightly unbalanced => stratify = True\n",
    "X_train, X_test, y_train, y_test = train_test_split(np.asarray(new_arr), onehotlabels, test_size=0.33, random_state=42)"
   ]
  },
  {
   "cell_type": "code",
   "execution_count": 16,
   "metadata": {},
   "outputs": [
    {
     "name": "stdout",
     "output_type": "stream",
     "text": [
      "The shape of the training pixel data is (23677, 48, 48)\n",
      "The shape of the training pixel data is (23677, 6)\n"
     ]
    }
   ],
   "source": [
    "X_train_shape, y_train_shape = X_train.shape, y_train.shape\n",
    "print(f\"The shape of the training pixel data is {X_train_shape}\")\n",
    "print(f\"The shape of the training pixel data is {y_train_shape}\")"
   ]
  },
  {
   "cell_type": "code",
   "execution_count": null,
   "metadata": {},
   "outputs": [],
   "source": []
  }
 ],
 "metadata": {
  "kernelspec": {
   "display_name": "Python 3",
   "language": "python",
   "name": "python3"
  },
  "language_info": {
   "codemirror_mode": {
    "name": "ipython",
    "version": 3
   },
   "file_extension": ".py",
   "mimetype": "text/x-python",
   "name": "python",
   "nbconvert_exporter": "python",
   "pygments_lexer": "ipython3",
   "version": "3.7.2"
  }
 },
 "nbformat": 4,
 "nbformat_minor": 2
}
